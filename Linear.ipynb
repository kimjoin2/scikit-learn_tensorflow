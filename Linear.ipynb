{
 "cells": [
  {
   "cell_type": "code",
   "execution_count": 6,
   "metadata": {},
   "outputs": [],
   "source": [
    "import numpy as np\n",
    "X = 2*np.random.rand(100,1)\n",
    "y = 4+3*X + np.random.randn(100,1)"
   ]
  },
  {
   "cell_type": "code",
   "execution_count": 7,
   "metadata": {},
   "outputs": [
    {
     "data": {
      "text/plain": [
       "array([[1.94264074],\n",
       "       [1.4419112 ],\n",
       "       [0.62799301],\n",
       "       [0.33535868],\n",
       "       [0.78402717],\n",
       "       [0.91114256],\n",
       "       [1.01554586],\n",
       "       [0.51353483],\n",
       "       [0.40183917],\n",
       "       [0.36406013],\n",
       "       [1.22357036],\n",
       "       [0.10618743],\n",
       "       [1.28077941],\n",
       "       [0.67645314],\n",
       "       [1.15036801],\n",
       "       [1.23912448],\n",
       "       [0.95228328],\n",
       "       [1.26984469],\n",
       "       [0.29473701],\n",
       "       [0.03770554],\n",
       "       [0.13075943],\n",
       "       [1.97814295],\n",
       "       [0.6887777 ],\n",
       "       [1.47331477],\n",
       "       [1.88947288],\n",
       "       [1.14128086],\n",
       "       [0.60094239],\n",
       "       [1.24620337],\n",
       "       [1.14212493],\n",
       "       [0.95365628],\n",
       "       [1.19119686],\n",
       "       [0.94870174],\n",
       "       [1.04181521],\n",
       "       [1.28480394],\n",
       "       [0.10725468],\n",
       "       [0.20057055],\n",
       "       [0.25890352],\n",
       "       [0.68691933],\n",
       "       [1.2828308 ],\n",
       "       [0.60032769],\n",
       "       [0.53808111],\n",
       "       [1.23725338],\n",
       "       [1.5916556 ],\n",
       "       [0.77186041],\n",
       "       [0.27057085],\n",
       "       [0.94375978],\n",
       "       [1.61534391],\n",
       "       [0.13412856],\n",
       "       [1.50055177],\n",
       "       [1.5748573 ],\n",
       "       [0.88958127],\n",
       "       [0.88333521],\n",
       "       [0.53794496],\n",
       "       [1.10643815],\n",
       "       [1.6272972 ],\n",
       "       [1.10084415],\n",
       "       [1.06743337],\n",
       "       [1.51962679],\n",
       "       [1.62440523],\n",
       "       [0.63238794],\n",
       "       [1.31775667],\n",
       "       [0.44056445],\n",
       "       [1.73788368],\n",
       "       [0.14067945],\n",
       "       [1.11042739],\n",
       "       [1.69640026],\n",
       "       [0.15764237],\n",
       "       [1.96699374],\n",
       "       [0.38586886],\n",
       "       [0.49148498],\n",
       "       [1.36944466],\n",
       "       [0.99726325],\n",
       "       [1.70065989],\n",
       "       [0.88871576],\n",
       "       [1.58826713],\n",
       "       [1.27122475],\n",
       "       [0.12387263],\n",
       "       [0.21929431],\n",
       "       [1.0664862 ],\n",
       "       [1.24971697],\n",
       "       [0.49734606],\n",
       "       [1.84426648],\n",
       "       [1.62609974],\n",
       "       [0.382997  ],\n",
       "       [0.18323535],\n",
       "       [0.42042959],\n",
       "       [1.14589832],\n",
       "       [1.31029651],\n",
       "       [1.3136048 ],\n",
       "       [0.5947754 ],\n",
       "       [0.53507475],\n",
       "       [0.72516727],\n",
       "       [0.05631135],\n",
       "       [0.25246342],\n",
       "       [0.90978149],\n",
       "       [1.0651177 ],\n",
       "       [0.47463073],\n",
       "       [0.82215724],\n",
       "       [0.61404304],\n",
       "       [1.43523366]])"
      ]
     },
     "execution_count": 7,
     "metadata": {},
     "output_type": "execute_result"
    }
   ],
   "source": [
    "X"
   ]
  },
  {
   "cell_type": "code",
   "execution_count": 8,
   "metadata": {},
   "outputs": [
    {
     "data": {
      "text/plain": [
       "array([[ 9.95365275],\n",
       "       [ 8.95577283],\n",
       "       [ 6.8705833 ],\n",
       "       [ 4.60683908],\n",
       "       [ 6.07767928],\n",
       "       [ 7.44375456],\n",
       "       [ 6.13611419],\n",
       "       [ 6.43204121],\n",
       "       [ 5.26171553],\n",
       "       [ 5.12280456],\n",
       "       [ 6.27572143],\n",
       "       [ 4.87906284],\n",
       "       [ 8.67680454],\n",
       "       [ 5.0663845 ],\n",
       "       [ 6.97565904],\n",
       "       [ 6.66627931],\n",
       "       [ 4.64941793],\n",
       "       [ 7.95212399],\n",
       "       [ 3.56113011],\n",
       "       [ 4.36661924],\n",
       "       [ 5.3817952 ],\n",
       "       [ 9.70352495],\n",
       "       [ 6.39548632],\n",
       "       [ 8.40434076],\n",
       "       [ 9.37429673],\n",
       "       [ 6.73921119],\n",
       "       [ 3.53781228],\n",
       "       [ 7.3311548 ],\n",
       "       [ 6.48199   ],\n",
       "       [ 7.29076987],\n",
       "       [ 6.3559953 ],\n",
       "       [ 7.97814842],\n",
       "       [ 8.05044275],\n",
       "       [ 8.32312542],\n",
       "       [ 4.36833378],\n",
       "       [ 4.45142353],\n",
       "       [ 4.99860682],\n",
       "       [ 5.97387261],\n",
       "       [ 7.95516349],\n",
       "       [ 5.24000353],\n",
       "       [ 6.29026511],\n",
       "       [ 7.78791913],\n",
       "       [ 8.05797698],\n",
       "       [ 4.25645858],\n",
       "       [ 4.48097284],\n",
       "       [ 7.42035918],\n",
       "       [ 9.85384348],\n",
       "       [ 2.50865188],\n",
       "       [10.00485893],\n",
       "       [ 9.27375952],\n",
       "       [ 4.57242692],\n",
       "       [ 7.94248726],\n",
       "       [ 4.14182741],\n",
       "       [ 6.56005491],\n",
       "       [ 8.7222497 ],\n",
       "       [ 5.86849803],\n",
       "       [ 8.26405033],\n",
       "       [ 9.22662603],\n",
       "       [ 9.22084005],\n",
       "       [ 6.57015895],\n",
       "       [ 8.20454182],\n",
       "       [ 6.14358088],\n",
       "       [ 9.17683476],\n",
       "       [ 5.34911121],\n",
       "       [ 7.16000905],\n",
       "       [ 9.10584105],\n",
       "       [ 4.66700898],\n",
       "       [ 7.89036442],\n",
       "       [ 4.30406011],\n",
       "       [ 6.87316426],\n",
       "       [ 9.56637628],\n",
       "       [ 7.02670744],\n",
       "       [ 7.58382598],\n",
       "       [ 6.64689727],\n",
       "       [11.20840403],\n",
       "       [ 8.6459976 ],\n",
       "       [ 4.53235117],\n",
       "       [ 6.21201826],\n",
       "       [ 6.94789955],\n",
       "       [ 7.16121487],\n",
       "       [ 5.05319469],\n",
       "       [11.51133724],\n",
       "       [ 8.26279239],\n",
       "       [ 4.38074915],\n",
       "       [ 3.35200347],\n",
       "       [ 5.40951127],\n",
       "       [ 8.47570278],\n",
       "       [ 6.0113039 ],\n",
       "       [ 9.35746754],\n",
       "       [ 5.75975974],\n",
       "       [ 4.62993503],\n",
       "       [ 5.27431343],\n",
       "       [ 4.23264934],\n",
       "       [ 4.90988331],\n",
       "       [ 7.48489429],\n",
       "       [ 7.90670549],\n",
       "       [ 7.39788102],\n",
       "       [ 7.38917163],\n",
       "       [ 5.08879447],\n",
       "       [ 8.36936542]])"
      ]
     },
     "execution_count": 8,
     "metadata": {},
     "output_type": "execute_result"
    }
   ],
   "source": [
    "y"
   ]
  },
  {
   "cell_type": "code",
   "execution_count": 9,
   "metadata": {},
   "outputs": [],
   "source": [
    "X_b = np.c_[np.ones((100, 1)), X]\n",
    "theta_best = np.linalg.inv(X_b.T.dot(X_b)).dot(X_b.T).dot(y)"
   ]
  },
  {
   "cell_type": "code",
   "execution_count": 10,
   "metadata": {},
   "outputs": [
    {
     "data": {
      "text/plain": [
       "array([[3.91748552],\n",
       "       [3.06539348]])"
      ]
     },
     "execution_count": 10,
     "metadata": {},
     "output_type": "execute_result"
    }
   ],
   "source": [
    "theta_best"
   ]
  },
  {
   "cell_type": "code",
   "execution_count": 11,
   "metadata": {},
   "outputs": [
    {
     "data": {
      "text/plain": [
       "array([[ 3.91748552],\n",
       "       [10.04827248]])"
      ]
     },
     "execution_count": 11,
     "metadata": {},
     "output_type": "execute_result"
    }
   ],
   "source": [
    "X_new = np.array([[0], [2]])\n",
    "X_new_b = np.c_[np.ones((2,1)), X_new]\n",
    "y_predict = X_new_b.dot(theta_best)\n",
    "y_predict"
   ]
  },
  {
   "cell_type": "code",
   "execution_count": 12,
   "metadata": {},
   "outputs": [
    {
     "data": {
      "image/png": "[encoded data removed]",
      "text/plain": [
       "<Figure size 432x288 with 1 Axes>"
      ]
     },
     "metadata": {
      "needs_background": "light"
     },
     "output_type": "display_data"
    }
   ],
   "source": [
    "%matplotlib inline\n",
    "import matplotlib\n",
    "import matplotlib.pyplot as plt\n",
    "\n",
    "plt.plot(X_new, y_predict, \"r-\")\n",
    "plt.plot(X, y, \"b.\")\n",
    "plt.axis([0,2,0,15])\n",
    "plt.show()"
   ]
  },
  {
   "cell_type": "code",
   "execution_count": 13,
   "metadata": {},
   "outputs": [
    {
     "data": {
      "text/plain": [
       "array([[3.91748552],\n",
       "       [3.06539348]])"
      ]
     },
     "execution_count": 13,
     "metadata": {},
     "output_type": "execute_result"
    }
   ],
   "source": [
    "eta = 0.1\n",
    "n_iterations = 1000\n",
    "m = 100\n",
    "\n",
    "theta = np.random.randn(2,1)\n",
    "for iteration in range(n_iterations):\n",
    "    gradients = 2/m * X_b.T.dot(X_b.dot(theta) - y)\n",
    "    theta = theta - eta * gradients\n",
    "    \n",
    "theta"
   ]
  },
  {
   "cell_type": "code",
   "execution_count": 14,
   "metadata": {},
   "outputs": [],
   "source": [
    "m = 100\n",
    "X = 6 * np.random.rand(m, 1) - 3\n",
    "y = 0.5 * X **2 + X + 2 + np.random.rand(m,1)"
   ]
  },
  {
   "cell_type": "code",
   "execution_count": 15,
   "metadata": {},
   "outputs": [
    {
     "data": {
      "text/plain": [
       "array([1.56386812])"
      ]
     },
     "execution_count": 15,
     "metadata": {},
     "output_type": "execute_result"
    }
   ],
   "source": [
    "from sklearn.preprocessing import PolynomialFeatures\n",
    "poly_features = PolynomialFeatures(degree=2, include_bias=False)\n",
    "X_poly = poly_features.fit_transform(X)\n",
    "X[0]"
   ]
  },
  {
   "cell_type": "code",
   "execution_count": 16,
   "metadata": {},
   "outputs": [
    {
     "data": {
      "text/plain": [
       "(array([2.55097829]), array([[1.01360891, 0.49108785]]))"
      ]
     },
     "execution_count": 16,
     "metadata": {},
     "output_type": "execute_result"
    }
   ],
   "source": [
    "from sklearn.linear_model import LinearRegression\n",
    "\n",
    "lin_reg = LinearRegression()\n",
    "lin_reg.fit(X_poly, y)\n",
    "lin_reg.intercept_, lin_reg.coef_"
   ]
  },
  {
   "cell_type": "code",
   "execution_count": 17,
   "metadata": {},
   "outputs": [
    {
     "data": {
      "image/png": "[encoded data removed]",
      "text/plain": [
       "<Figure size 432x288 with 1 Axes>"
      ]
     },
     "metadata": {
      "needs_background": "light"
     },
     "output_type": "display_data"
    }
   ],
   "source": [
    "from sklearn.metrics import mean_squared_error\n",
    "from sklearn.model_selection import train_test_split\n",
    "\n",
    "def plot_learning_curves(model, X, y):\n",
    "    X_train, X_val, y_train, y_val = train_test_split(X, y, test_size=0.2)\n",
    "    train_errors, val_errors = [], []\n",
    "    for m in range(1, len(X_train)):\n",
    "        model.fit(X_train[:m], y_train[:m])\n",
    "        y_train_predict = model.predict(X_train[:m])\n",
    "        y_val_predict = model.predict(X_val)\n",
    "        train_errors.append(mean_squared_error(y_train[:m], y_train_predict))\n",
    "        val_errors.append(mean_squared_error(y_val, y_val_predict))\n",
    "    plt.plot(np.sqrt(train_errors), \"r-+\", linewidth=2, label=\"train set\")\n",
    "    plt.plot(np.sqrt(val_errors), \"b-\", linewidth=3, label=\"test set\")\n",
    "    plt.axis([0,80,0,2.5])\n",
    "\n",
    "lin_reg = LinearRegression()\n",
    "plot_learning_curves(lin_reg, X, y)"
   ]
  },
  {
   "cell_type": "code",
   "execution_count": 18,
   "metadata": {},
   "outputs": [
    {
     "data": {
      "image/png": "[encoded data removed]",
      "text/plain": [
       "<Figure size 432x288 with 1 Axes>"
      ]
     },
     "metadata": {
      "needs_background": "light"
     },
     "output_type": "display_data"
    }
   ],
   "source": [
    "from sklearn.pipeline import Pipeline\n",
    "\n",
    "polynomial_regression = Pipeline([\n",
    "    (\"poly_features\", PolynomialFeatures(degree=10, include_bias=False)),\n",
    "    (\"lin_reg\", LinearRegression())\n",
    "])\n",
    "\n",
    "plot_learning_curves(polynomial_regression, X, y)"
   ]
  },
  {
   "cell_type": "code",
   "execution_count": 19,
   "metadata": {},
   "outputs": [
    {
     "data": {
      "text/plain": [
       "array([[5.44858606]])"
      ]
     },
     "execution_count": 19,
     "metadata": {},
     "output_type": "execute_result"
    }
   ],
   "source": [
    "from sklearn.linear_model import Ridge\n",
    "\n",
    "ridge_reg = Ridge(alpha=1, solver=\"cholesky\")\n",
    "ridge_reg.fit(X,y)\n",
    "ridge_reg.predict([[1.5]])\n"
   ]
  },
  {
   "cell_type": "code",
   "execution_count": 20,
   "metadata": {},
   "outputs": [
    {
     "name": "stderr",
     "output_type": "stream",
     "text": [
      "/Users/bumnyeong/ml/env/lib/python3.7/site-packages/sklearn/linear_model/stochastic_gradient.py:183: FutureWarning: max_iter and tol parameters have been added in SGDRegressor in 0.19. If max_iter is set but tol is left unset, the default value for tol in 0.19 and 0.20 will be None (which is equivalent to -infinity, so it has no effect) but will change in 0.21 to 1e-3. Specify tol to silence this warning.\n",
      "  FutureWarning)\n",
      "/Users/bumnyeong/ml/env/lib/python3.7/site-packages/sklearn/utils/validation.py:761: DataConversionWarning: A column-vector y was passed when a 1d array was expected. Please change the shape of y to (n_samples, ), for example using ravel().\n",
      "  y = column_or_1d(y, warn=True)\n"
     ]
    },
    {
     "data": {
      "text/plain": [
       "array([4.42044585])"
      ]
     },
     "execution_count": 20,
     "metadata": {},
     "output_type": "execute_result"
    }
   ],
   "source": [
    "from sklearn.linear_model import SGDRegressor\n",
    "\n",
    "sgd_reg = SGDRegressor(max_iter=5, penalty=\"l2\")\n",
    "sgd_reg.fit(X, y)\n",
    "sgd_reg.predict([[1.5]])"
   ]
  },
  {
   "cell_type": "code",
   "execution_count": 21,
   "metadata": {},
   "outputs": [
    {
     "data": {
      "text/plain": [
       "array([5.40245993])"
      ]
     },
     "execution_count": 21,
     "metadata": {},
     "output_type": "execute_result"
    }
   ],
   "source": [
    "from sklearn.linear_model import Lasso\n",
    "\n",
    "lasso_reg = Lasso(alpha=0.1)\n",
    "lasso_reg.fit(X, y)\n",
    "lasso_reg.predict([[1.5]])"
   ]
  },
  {
   "cell_type": "code",
   "execution_count": null,
   "metadata": {},
   "outputs": [],
   "source": []
  }
 ],
 "metadata": {
  "kernelspec": {
   "display_name": "Python 3",
   "language": "python",
   "name": "python3"
  },
  "language_info": {
   "codemirror_mode": {
    "name": "ipython",
    "version": 3
   },
   "file_extension": ".py",
   "mimetype": "text/x-python",
   "name": "python",
   "nbconvert_exporter": "python",
   "pygments_lexer": "ipython3",
   "version": "3.7.1"
  }
 },
 "nbformat": 4,
 "nbformat_minor": 2
}
